{
  "nbformat": 4,
  "nbformat_minor": 0,
  "metadata": {
    "colab": {
      "provenance": [],
      "authorship_tag": "ABX9TyMq8CdErHf/wdtzMt4GS1wr",
      "include_colab_link": true
    },
    "kernelspec": {
      "name": "python3",
      "display_name": "Python 3"
    },
    "language_info": {
      "name": "python"
    }
  },
  "cells": [
    {
      "cell_type": "markdown",
      "metadata": {
        "id": "view-in-github",
        "colab_type": "text"
      },
      "source": [
        "<a href=\"https://colab.research.google.com/github/jeurginocode/actividadjuego/blob/main/Test_actividad_4_3192831.ipynb\" target=\"_parent\"><img src=\"https://colab.research.google.com/assets/colab-badge.svg\" alt=\"Open In Colab\"/></a>"
      ]
    },
    {
      "cell_type": "markdown",
      "source": [
        " ## Actividad Evaluativa 4\n",
        "\n",
        " **Fecha:** _15 de marzo de 2024_\n",
        "\n",
        " **Presentado por:** _Jorge Enrique Arnedo Arteaga_\n",
        "\n",
        " **Email:** jorge.arnedo@upb.edu.co"
      ],
      "metadata": {
        "id": "u6UYACxTwJrJ"
      }
    },
    {
      "cell_type": "code",
      "source": [
        "import random\n",
        "import time\n",
        "from IPython.display import clear_output\n",
        "\n",
        "def create_board(size, options):\n",
        "    board = [[random.choice(options) for _ in range(size)] for _ in range(size)]\n",
        "    return board\n",
        "\n",
        "def show_board(board):\n",
        "    for row in board:\n",
        "        print(\" \".join(row))\n",
        "\n",
        "def hide_value(board):\n",
        "    secreto_row = random.randint(0, len(board)-1)\n",
        "    secreto_col = random.randint(0, len(board[0])-1)\n",
        "    secret_value = board[secreto_row][secreto_col]\n",
        "    board[secreto_row][secreto_col] = \"*\"\n",
        "    return secreto_row, secreto_col, secret_value, board\n",
        "\n",
        "def play_game(size, options):\n",
        "    board = create_board(size, options)\n",
        "    show_board(board)\n",
        "    print(\"\\n¡Mostrar cartas en 2 segundos...\")\n",
        "    time.sleep(2)\n",
        "    clear_output()\n",
        "    secreto_row, secreto_col, secret_value, board = hide_value(board)\n",
        "    print(\"¡Hay un valor secreto ocultado en el tablero!\")\n",
        "    show_board(board)\n",
        "    valor = str(input(\"Intenta adivinar qué valor es: \"))\n",
        "\n",
        "    if secret_value == valor:\n",
        "        print(\"\\n¡Felicidades! ¡Has encontrado el valor secreto!\")\n",
        "    else:\n",
        "        print(\"\\nLo siento, el valor secreto era '{}'. ¡Mejor suerte la próxima vez!\".format(secret_value))\n",
        "\n",
        "def main():\n",
        "    print(\"Bienvenido al Juego de Tablero\")\n",
        "    size = int(input(\"Ingrese el tamaño del tablero: \"))\n",
        "    options = ['J', 'Q', 'K', 'A', 'B', 'C',\"S\",\"M\",\"X\",\"D\",\"Ñ\"]\n",
        "\n",
        "    play_game(size, options)\n",
        "\n",
        "if __name__ == \"__main__\":\n",
        "    main()"
      ],
      "metadata": {
        "id": "S4t4AwqEKAiQ",
        "outputId": "aebd75ae-a767-47a3-d747-94a5ea80beaf",
        "colab": {
          "base_uri": "https://localhost:8080/"
        }
      },
      "execution_count": null,
      "outputs": [
        {
          "output_type": "stream",
          "name": "stdout",
          "text": [
            "¡Hay un valor secreto ocultado en el tablero!\n",
            "*\n",
            "Intenta adivinar qué valor es: J\n",
            "\n",
            "¡Felicidades! ¡Has encontrado el valor secreto!\n"
          ]
        }
      ]
    }
  ]
}